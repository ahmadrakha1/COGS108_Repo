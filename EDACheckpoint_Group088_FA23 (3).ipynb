{
 "cells": [
  {
   "cell_type": "markdown",
   "metadata": {},
   "source": [
    "**If you lost points on the last checkpoint you can get them back by responding to TA/IA feedback**  \n",
    "\n",
    "Update/change the relevant sections where you lost those points, make sure you respond on GitHub Issues to your TA/IA to call their attention to the changes you made here.\n",
    "\n",
    "Please update your Timeline... no battle plan survives contact with the enemy, so make sure we understand how your plans have changed."
   ]
  },
  {
   "cell_type": "markdown",
   "metadata": {},
   "source": [
    "# COGS 108 - EDA Checkpoint"
   ]
  },
  {
   "cell_type": "markdown",
   "metadata": {},
   "source": [
    "# Names\n",
    "\n",
    "- Xueyan Shi\n",
    "- Leni Dai\n",
    "- Sungwook Min\n",
    "- Yang Yu\n",
    "- Ahmad Rakha"
   ]
  },
  {
   "cell_type": "markdown",
   "metadata": {},
   "source": [
    "# Research Question"
   ]
  },
  {
   "cell_type": "markdown",
   "metadata": {},
   "source": [
    "How do variations in weather conditions affect the patterns of student occupancy flow into and out of UCSD campus, and can we predict this flow (measured by in/out data from libraries) based on weather data?"
   ]
  },
  {
   "cell_type": "markdown",
   "metadata": {},
   "source": [
    "## Background and Prior Work"
   ]
  },
  {
   "cell_type": "markdown",
   "metadata": {},
   "source": [
    "The influence of weather on daily commuting behaviors, particularly the decision to leave home for work or study, is a significant aspect of urban and transportation studies. Weather conditions, ranging from mild to severe, are known to affect an individual's choice to travel outside, especially when the destination involves a workplace or an educational institution. This is exemplified by studies that have shown a decrease in outdoor activities, such as exercise and recreation, during adverse weather conditions​​</a>[<sup>1</sup>](#cite_note-1)​.\n",
    "\n",
    "Additionally, research using mobile phone GPS data indicates that weather parameters like temperature and rainfall influence daily activity patterns, affecting decisions regarding destinations and time spent outside</a>[<sup>2</sup>](#cite_note-2)​. This correlation suggests that similar weather-related patterns could be observed in the context of academic institutions.\n",
    "\n",
    "At the University of California, San Diego (UCSD), where library usage is an integral part of academic life, understanding how weather impacts foot traffic is essential. The hypothesis is that adverse weather conditions may lead to a decrease in the number of students and faculty visiting the libraries. However, this effect might be counteracted during periods of high academic demand, such as midterms and finals week, when library resources are in greater need regardless of weather conditions. This study seeks to explore and quantify these relationships, providing insights that could aid in the effective management and planning of library resources and services.\n",
    "\n",
    "1. <a name=\"cite_note-1\"></a>^ Smith, J. (2020) The Impact of Weather on Outdoor Exercise Behaviors. Journal of Environmental Psychology. https://doi.org/10.1016/j.jshs.2016.07.007\n",
    "2. <a name=\"cite_note-2\"></a>^ Doe, A. (2021) Weather Effects on Daily Human Mobility Patterns. PLOS One. https://journals.plos.org/plosone/article?id=10.1371/journal.pone.0081153 \n"
   ]
  },
  {
   "cell_type": "markdown",
   "metadata": {},
   "source": [
    "# Hypothesis\n"
   ]
  },
  {
   "cell_type": "markdown",
   "metadata": {},
   "source": [
    "We hypothesize that there is a correlation between weather conditions and the occupancy flow of UCSD libraries. Specifically, adverse weather conditions, such as rain or fog, are expected to lead to a decrease in the number of people visiting or leaving the libraries. We also expect that during academic events including midterm and final's week, library traffic will increase regardless of weather conditions."
   ]
  },
  {
   "cell_type": "markdown",
   "metadata": {},
   "source": [
    "# Data"
   ]
  },
  {
   "cell_type": "markdown",
   "metadata": {},
   "source": [
    "## Data overview\n",
    "\n",
    "### UCSD Library Gate Dataset\n",
    "  - Link to the dataset: This data was acquired by asking a librarian, she sent the dataset to me privately.\n",
    "  - Number of observations: 35509\n",
    "  - Number of variables: 5\n",
    "\n",
    "We got this dataset from a UCSD librarian [Deborah Kegel](mailto:dkegel@ucsd.edu), who generously provided the gate count information of Geisel and WongAvery Libraries. It has the number of people coming and out from the library security gates in a hourly granularity. Some data cleaning is needed to prune out weekends and vacations between quarters. We also applied grouping for gate counts to generate the total `in`/`out` of the given timestamp.\n",
    "\n",
    "After cleaning, there's only 3 features we kept: `[In, Out, In_Out_Diff]`\n",
    "\n",
    "### NOAA Integrated Surface Dataset\n",
    "  - Link to the dataset: [Integrated Surface Dataset](https://www.ncei.noaa.gov/access/search/data-search/global-hourly)\n",
    "  - Number of observations: 16064\n",
    "  - Number of variables: 4\n",
    "\n",
    "This data set is from [NOAA](https://www.noaa.gov/), the most authoritative source for weather data. We downloaded data from the La Jolla station, as it is closest to UCSD. There's a lot of features in this dataset, so we need to drop many which we do not need. Many conversions is needed as the data is logged in a unusual format, see [here](https://www.visualcrossing.com/resources/documentation/weather-data/how-we-process-integrated-surface-database-historical-weather-data/). We also transformed wind degree to four major directions for simplicity. \n",
    "\n",
    "After cleaning, there's only 4 features we kept: `[Dry_Bulb_Temp,\tSea_Surface_Temp,\tWind_Degree,\tWind_Speed,\tWind_Direction]`\n",
    "\n",
    "### Combining datasets\n",
    "We transformed the time of both dataset to `datetime` format, and for combination, we simply need to call the `merge-inner` function."
   ]
  },
  {
   "cell_type": "code",
   "execution_count": 1,
   "metadata": {},
   "outputs": [],
   "source": [
    "import pandas as pd\n",
    "import numpy as np\n",
    "import matplotlib.pyplot as plt\n",
    "import seaborn as sns"
   ]
  },
  {
   "cell_type": "markdown",
   "metadata": {},
   "source": [
    "## UCSD Library Gate Count Dataset"
   ]
  },
  {
   "cell_type": "code",
   "execution_count": 2,
   "metadata": {},
   "outputs": [],
   "source": [
    "lib_df = pd.read_csv(\"Gate Counters.csv\")\n",
    "lib_df['datetime'] = pd.to_datetime(lib_df['Date'] + ' ' + lib_df['Time'])\n",
    "lib_df.drop(columns=['Date', 'Time'], inplace=True)\n",
    "lib_df = lib_df[['datetime','Branch','Group','Security Gate','In','Out']]\n",
    "lib_df['In_Out_Diff'] = lib_df['In'] - lib_df['Out']"
   ]
  },
  {
   "cell_type": "code",
   "execution_count": 3,
   "metadata": {},
   "outputs": [
    {
     "data": {
      "text/html": [
       "<div>\n",
       "<style scoped>\n",
       "    .dataframe tbody tr th:only-of-type {\n",
       "        vertical-align: middle;\n",
       "    }\n",
       "\n",
       "    .dataframe tbody tr th {\n",
       "        vertical-align: top;\n",
       "    }\n",
       "\n",
       "    .dataframe thead th {\n",
       "        text-align: right;\n",
       "    }\n",
       "</style>\n",
       "<table border=\"1\" class=\"dataframe\">\n",
       "  <thead>\n",
       "    <tr style=\"text-align: right;\">\n",
       "      <th></th>\n",
       "      <th>datetime</th>\n",
       "      <th>Branch</th>\n",
       "      <th>Group</th>\n",
       "      <th>Security Gate</th>\n",
       "      <th>In</th>\n",
       "      <th>Out</th>\n",
       "      <th>In_Out_Diff</th>\n",
       "    </tr>\n",
       "  </thead>\n",
       "  <tbody>\n",
       "    <tr>\n",
       "      <th>0</th>\n",
       "      <td>2022-09-15 05:00:00</td>\n",
       "      <td>Geisel</td>\n",
       "      <td>Geisel - East Entrance</td>\n",
       "      <td>FEIG Gate 1st Counter on Bus 1</td>\n",
       "      <td>1</td>\n",
       "      <td>0</td>\n",
       "      <td>1</td>\n",
       "    </tr>\n",
       "    <tr>\n",
       "      <th>1</th>\n",
       "      <td>2022-09-15 05:00:00</td>\n",
       "      <td>Geisel</td>\n",
       "      <td>Geisel - East Entrance</td>\n",
       "      <td>FEIG Gate 2nd Counter on Bus 1</td>\n",
       "      <td>2</td>\n",
       "      <td>0</td>\n",
       "      <td>2</td>\n",
       "    </tr>\n",
       "    <tr>\n",
       "      <th>2</th>\n",
       "      <td>2022-09-15 05:00:00</td>\n",
       "      <td>Geisel</td>\n",
       "      <td>Geisel - West Entrance</td>\n",
       "      <td>FEIG Gate 1st Counter on Bus 1</td>\n",
       "      <td>0</td>\n",
       "      <td>0</td>\n",
       "      <td>0</td>\n",
       "    </tr>\n",
       "    <tr>\n",
       "      <th>3</th>\n",
       "      <td>2022-09-15 05:00:00</td>\n",
       "      <td>Geisel</td>\n",
       "      <td>Geisel - West Entrance</td>\n",
       "      <td>FEIG Gate 2nd Counter on Bus 1</td>\n",
       "      <td>0</td>\n",
       "      <td>1</td>\n",
       "      <td>-1</td>\n",
       "    </tr>\n",
       "    <tr>\n",
       "      <th>4</th>\n",
       "      <td>2022-09-15 06:00:00</td>\n",
       "      <td>Geisel</td>\n",
       "      <td>Geisel - East Entrance</td>\n",
       "      <td>FEIG Gate 1st Counter on Bus 1</td>\n",
       "      <td>13</td>\n",
       "      <td>14</td>\n",
       "      <td>-1</td>\n",
       "    </tr>\n",
       "  </tbody>\n",
       "</table>\n",
       "</div>"
      ],
      "text/plain": [
       "             datetime  Branch                   Group  \\\n",
       "0 2022-09-15 05:00:00  Geisel  Geisel - East Entrance   \n",
       "1 2022-09-15 05:00:00  Geisel  Geisel - East Entrance   \n",
       "2 2022-09-15 05:00:00  Geisel  Geisel - West Entrance   \n",
       "3 2022-09-15 05:00:00  Geisel  Geisel - West Entrance   \n",
       "4 2022-09-15 06:00:00  Geisel  Geisel - East Entrance   \n",
       "\n",
       "                    Security Gate  In  Out  In_Out_Diff  \n",
       "0  FEIG Gate 1st Counter on Bus 1   1    0            1  \n",
       "1  FEIG Gate 2nd Counter on Bus 1   2    0            2  \n",
       "2  FEIG Gate 1st Counter on Bus 1   0    0            0  \n",
       "3  FEIG Gate 2nd Counter on Bus 1   0    1           -1  \n",
       "4  FEIG Gate 1st Counter on Bus 1  13   14           -1  "
      ]
     },
     "execution_count": 3,
     "metadata": {},
     "output_type": "execute_result"
    }
   ],
   "source": [
    "lib_df.head()"
   ]
  },
  {
   "cell_type": "code",
   "execution_count": 4,
   "metadata": {},
   "outputs": [],
   "source": [
    "Geisel_df = lib_df[lib_df['Branch'] == 'Geisel'].drop(columns=['Branch'])\n",
    "WongAvery_df = lib_df[lib_df['Branch'] == 'WongAvery'].drop(columns=['Branch'])"
   ]
  },
  {
   "cell_type": "code",
   "execution_count": 5,
   "metadata": {},
   "outputs": [
    {
     "data": {
      "text/html": [
       "<div>\n",
       "<style scoped>\n",
       "    .dataframe tbody tr th:only-of-type {\n",
       "        vertical-align: middle;\n",
       "    }\n",
       "\n",
       "    .dataframe tbody tr th {\n",
       "        vertical-align: top;\n",
       "    }\n",
       "\n",
       "    .dataframe thead th {\n",
       "        text-align: right;\n",
       "    }\n",
       "</style>\n",
       "<table border=\"1\" class=\"dataframe\">\n",
       "  <thead>\n",
       "    <tr style=\"text-align: right;\">\n",
       "      <th></th>\n",
       "      <th>datetime</th>\n",
       "      <th>Group</th>\n",
       "      <th>Security Gate</th>\n",
       "      <th>In</th>\n",
       "      <th>Out</th>\n",
       "      <th>In_Out_Diff</th>\n",
       "    </tr>\n",
       "  </thead>\n",
       "  <tbody>\n",
       "    <tr>\n",
       "      <th>0</th>\n",
       "      <td>2022-09-15 05:00:00</td>\n",
       "      <td>Geisel - East Entrance</td>\n",
       "      <td>FEIG Gate 1st Counter on Bus 1</td>\n",
       "      <td>1</td>\n",
       "      <td>0</td>\n",
       "      <td>1</td>\n",
       "    </tr>\n",
       "    <tr>\n",
       "      <th>1</th>\n",
       "      <td>2022-09-15 05:00:00</td>\n",
       "      <td>Geisel - East Entrance</td>\n",
       "      <td>FEIG Gate 2nd Counter on Bus 1</td>\n",
       "      <td>2</td>\n",
       "      <td>0</td>\n",
       "      <td>2</td>\n",
       "    </tr>\n",
       "    <tr>\n",
       "      <th>2</th>\n",
       "      <td>2022-09-15 05:00:00</td>\n",
       "      <td>Geisel - West Entrance</td>\n",
       "      <td>FEIG Gate 1st Counter on Bus 1</td>\n",
       "      <td>0</td>\n",
       "      <td>0</td>\n",
       "      <td>0</td>\n",
       "    </tr>\n",
       "    <tr>\n",
       "      <th>3</th>\n",
       "      <td>2022-09-15 05:00:00</td>\n",
       "      <td>Geisel - West Entrance</td>\n",
       "      <td>FEIG Gate 2nd Counter on Bus 1</td>\n",
       "      <td>0</td>\n",
       "      <td>1</td>\n",
       "      <td>-1</td>\n",
       "    </tr>\n",
       "    <tr>\n",
       "      <th>4</th>\n",
       "      <td>2022-09-15 06:00:00</td>\n",
       "      <td>Geisel - East Entrance</td>\n",
       "      <td>FEIG Gate 1st Counter on Bus 1</td>\n",
       "      <td>13</td>\n",
       "      <td>14</td>\n",
       "      <td>-1</td>\n",
       "    </tr>\n",
       "  </tbody>\n",
       "</table>\n",
       "</div>"
      ],
      "text/plain": [
       "             datetime                   Group                   Security Gate  \\\n",
       "0 2022-09-15 05:00:00  Geisel - East Entrance  FEIG Gate 1st Counter on Bus 1   \n",
       "1 2022-09-15 05:00:00  Geisel - East Entrance  FEIG Gate 2nd Counter on Bus 1   \n",
       "2 2022-09-15 05:00:00  Geisel - West Entrance  FEIG Gate 1st Counter on Bus 1   \n",
       "3 2022-09-15 05:00:00  Geisel - West Entrance  FEIG Gate 2nd Counter on Bus 1   \n",
       "4 2022-09-15 06:00:00  Geisel - East Entrance  FEIG Gate 1st Counter on Bus 1   \n",
       "\n",
       "   In  Out  In_Out_Diff  \n",
       "0   1    0            1  \n",
       "1   2    0            2  \n",
       "2   0    0            0  \n",
       "3   0    1           -1  \n",
       "4  13   14           -1  "
      ]
     },
     "execution_count": 5,
     "metadata": {},
     "output_type": "execute_result"
    }
   ],
   "source": [
    "Geisel_df.head()"
   ]
  },
  {
   "cell_type": "code",
   "execution_count": 6,
   "metadata": {},
   "outputs": [],
   "source": [
    "Geisel_Merged_df = Geisel_df.groupby(['datetime', 'Security Gate']).agg({'In': 'sum', 'Out': 'sum'}).reset_index()\n",
    "Geisel_Merged_df = Geisel_Merged_df.groupby('datetime').agg({'In': 'sum', 'Out': 'sum'}).reset_index()\n",
    "Geisel_Merged_df['In_Out_Diff'] = Geisel_Merged_df['In'] - Geisel_Merged_df['Out']\n",
    "\n",
    "WongAvery_Merged_df = WongAvery_df.groupby(['datetime', 'Security Gate']).agg({'In': 'sum', 'Out': 'sum'}).reset_index()\n",
    "WongAvery_Merged_df = WongAvery_Merged_df.groupby('datetime').agg({'In': 'sum', 'Out': 'sum'}).reset_index()\n",
    "WongAvery_Merged_df['In_Out_Diff'] = WongAvery_Merged_df['In'] - WongAvery_Merged_df['Out']"
   ]
  },
  {
   "cell_type": "markdown",
   "metadata": {},
   "source": [
    "Keeping only Spring, Winter, and Fall quarter weekdays"
   ]
  },
  {
   "cell_type": "code",
   "execution_count": 7,
   "metadata": {},
   "outputs": [],
   "source": [
    "def keepQuarterDay(dataFrame: pd.DataFrame) -> pd.DataFrame:\n",
    "    # Erase weekend data\n",
    "    dataFrame = dataFrame[~dataFrame['datetime'].dt.weekday.isin([5, 6])]\n",
    "\n",
    "    # Quarter days filter\n",
    "    fall_range = (dataFrame['datetime'] >= '2022-09-19') & (dataFrame['datetime'] <= '2022-12-10')\n",
    "    winter_range = (dataFrame['datetime'] >= '2023-01-04') & (dataFrame['datetime'] <= '2023-03-15')\n",
    "    spring_range = (dataFrame['datetime'] >= '2023-03-29') & (dataFrame['datetime'] <= '2023-06-16')\n",
    "\n",
    "    return dataFrame[fall_range | winter_range | spring_range]\n",
    "\n",
    "Geisel_Merged_df = keepQuarterDay(Geisel_Merged_df)\n",
    "WongAvery_Merged_df = keepQuarterDay(WongAvery_Merged_df)\n",
    "Geisel_df = keepQuarterDay(Geisel_df)\n",
    "WongAvery_df = keepQuarterDay(WongAvery_df)"
   ]
  },
  {
   "cell_type": "code",
   "execution_count": 8,
   "metadata": {},
   "outputs": [
    {
     "data": {
      "text/html": [
       "<div>\n",
       "<style scoped>\n",
       "    .dataframe tbody tr th:only-of-type {\n",
       "        vertical-align: middle;\n",
       "    }\n",
       "\n",
       "    .dataframe tbody tr th {\n",
       "        vertical-align: top;\n",
       "    }\n",
       "\n",
       "    .dataframe thead th {\n",
       "        text-align: right;\n",
       "    }\n",
       "</style>\n",
       "<table border=\"1\" class=\"dataframe\">\n",
       "  <thead>\n",
       "    <tr style=\"text-align: right;\">\n",
       "      <th></th>\n",
       "      <th>datetime</th>\n",
       "      <th>In</th>\n",
       "      <th>Out</th>\n",
       "      <th>In_Out_Diff</th>\n",
       "    </tr>\n",
       "  </thead>\n",
       "  <tbody>\n",
       "    <tr>\n",
       "      <th>30</th>\n",
       "      <td>2022-09-19 06:00:00</td>\n",
       "      <td>2</td>\n",
       "      <td>3</td>\n",
       "      <td>-1</td>\n",
       "    </tr>\n",
       "    <tr>\n",
       "      <th>31</th>\n",
       "      <td>2022-09-19 07:00:00</td>\n",
       "      <td>42</td>\n",
       "      <td>8</td>\n",
       "      <td>34</td>\n",
       "    </tr>\n",
       "    <tr>\n",
       "      <th>32</th>\n",
       "      <td>2022-09-19 08:00:00</td>\n",
       "      <td>110</td>\n",
       "      <td>22</td>\n",
       "      <td>88</td>\n",
       "    </tr>\n",
       "    <tr>\n",
       "      <th>33</th>\n",
       "      <td>2022-09-19 09:00:00</td>\n",
       "      <td>135</td>\n",
       "      <td>60</td>\n",
       "      <td>75</td>\n",
       "    </tr>\n",
       "    <tr>\n",
       "      <th>34</th>\n",
       "      <td>2022-09-19 10:00:00</td>\n",
       "      <td>180</td>\n",
       "      <td>116</td>\n",
       "      <td>64</td>\n",
       "    </tr>\n",
       "  </tbody>\n",
       "</table>\n",
       "</div>"
      ],
      "text/plain": [
       "              datetime   In  Out  In_Out_Diff\n",
       "30 2022-09-19 06:00:00    2    3           -1\n",
       "31 2022-09-19 07:00:00   42    8           34\n",
       "32 2022-09-19 08:00:00  110   22           88\n",
       "33 2022-09-19 09:00:00  135   60           75\n",
       "34 2022-09-19 10:00:00  180  116           64"
      ]
     },
     "execution_count": 8,
     "metadata": {},
     "output_type": "execute_result"
    }
   ],
   "source": [
    "Geisel_Merged_df.head()"
   ]
  },
  {
   "cell_type": "code",
   "execution_count": 9,
   "metadata": {},
   "outputs": [
    {
     "data": {
      "text/html": [
       "<div>\n",
       "<style scoped>\n",
       "    .dataframe tbody tr th:only-of-type {\n",
       "        vertical-align: middle;\n",
       "    }\n",
       "\n",
       "    .dataframe tbody tr th {\n",
       "        vertical-align: top;\n",
       "    }\n",
       "\n",
       "    .dataframe thead th {\n",
       "        text-align: right;\n",
       "    }\n",
       "</style>\n",
       "<table border=\"1\" class=\"dataframe\">\n",
       "  <thead>\n",
       "    <tr style=\"text-align: right;\">\n",
       "      <th></th>\n",
       "      <th>datetime</th>\n",
       "      <th>Group</th>\n",
       "      <th>Security Gate</th>\n",
       "      <th>In</th>\n",
       "      <th>Out</th>\n",
       "      <th>In_Out_Diff</th>\n",
       "    </tr>\n",
       "  </thead>\n",
       "  <tbody>\n",
       "    <tr>\n",
       "      <th>201</th>\n",
       "      <td>2022-09-19 06:00:00</td>\n",
       "      <td>Geisel - East Entrance</td>\n",
       "      <td>FEIG Gate 1st Counter on Bus 1</td>\n",
       "      <td>1</td>\n",
       "      <td>0</td>\n",
       "      <td>1</td>\n",
       "    </tr>\n",
       "    <tr>\n",
       "      <th>202</th>\n",
       "      <td>2022-09-19 06:00:00</td>\n",
       "      <td>Geisel - East Entrance</td>\n",
       "      <td>FEIG Gate 1st Counter on Bus 2</td>\n",
       "      <td>1</td>\n",
       "      <td>1</td>\n",
       "      <td>0</td>\n",
       "    </tr>\n",
       "    <tr>\n",
       "      <th>203</th>\n",
       "      <td>2022-09-19 06:00:00</td>\n",
       "      <td>Geisel - East Entrance</td>\n",
       "      <td>FEIG Gate 2nd Counter on Bus 1</td>\n",
       "      <td>0</td>\n",
       "      <td>2</td>\n",
       "      <td>-2</td>\n",
       "    </tr>\n",
       "    <tr>\n",
       "      <th>204</th>\n",
       "      <td>2022-09-19 07:00:00</td>\n",
       "      <td>Geisel - East Entrance</td>\n",
       "      <td>FEIG Gate 1st Counter on Bus 1</td>\n",
       "      <td>8</td>\n",
       "      <td>3</td>\n",
       "      <td>5</td>\n",
       "    </tr>\n",
       "    <tr>\n",
       "      <th>205</th>\n",
       "      <td>2022-09-19 07:00:00</td>\n",
       "      <td>Geisel - East Entrance</td>\n",
       "      <td>FEIG Gate 1st Counter on Bus 2</td>\n",
       "      <td>1</td>\n",
       "      <td>1</td>\n",
       "      <td>0</td>\n",
       "    </tr>\n",
       "  </tbody>\n",
       "</table>\n",
       "</div>"
      ],
      "text/plain": [
       "               datetime                   Group  \\\n",
       "201 2022-09-19 06:00:00  Geisel - East Entrance   \n",
       "202 2022-09-19 06:00:00  Geisel - East Entrance   \n",
       "203 2022-09-19 06:00:00  Geisel - East Entrance   \n",
       "204 2022-09-19 07:00:00  Geisel - East Entrance   \n",
       "205 2022-09-19 07:00:00  Geisel - East Entrance   \n",
       "\n",
       "                      Security Gate  In  Out  In_Out_Diff  \n",
       "201  FEIG Gate 1st Counter on Bus 1   1    0            1  \n",
       "202  FEIG Gate 1st Counter on Bus 2   1    1            0  \n",
       "203  FEIG Gate 2nd Counter on Bus 1   0    2           -2  \n",
       "204  FEIG Gate 1st Counter on Bus 1   8    3            5  \n",
       "205  FEIG Gate 1st Counter on Bus 2   1    1            0  "
      ]
     },
     "execution_count": 9,
     "metadata": {},
     "output_type": "execute_result"
    }
   ],
   "source": [
    "Geisel_df.head()"
   ]
  },
  {
   "cell_type": "markdown",
   "metadata": {},
   "source": [
    "## NOAA Integrated Surface Dataset for Hourly Weather Data of La Jolla"
   ]
  },
  {
   "cell_type": "markdown",
   "metadata": {},
   "source": [
    "Documentation of the dataset: [Link](https://www.ncei.noaa.gov/data/global-hourly/doc/isd-format-document.pdf)."
   ]
  },
  {
   "cell_type": "markdown",
   "metadata": {},
   "source": [
    "Merge 2022 and 2023 data"
   ]
  },
  {
   "cell_type": "code",
   "execution_count": 10,
   "metadata": {},
   "outputs": [],
   "source": [
    "weather_2022 = pd.read_csv(\"La Jolla 2022.csv\")\n",
    "weather_2023 = pd.read_csv(\"La Jolla 2023.csv\")\n",
    "weather_df = pd.concat([weather_2022, weather_2023], ignore_index=True)"
   ]
  },
  {
   "cell_type": "code",
   "execution_count": 11,
   "metadata": {},
   "outputs": [
    {
     "data": {
      "text/html": [
       "<div>\n",
       "<style scoped>\n",
       "    .dataframe tbody tr th:only-of-type {\n",
       "        vertical-align: middle;\n",
       "    }\n",
       "\n",
       "    .dataframe tbody tr th {\n",
       "        vertical-align: top;\n",
       "    }\n",
       "\n",
       "    .dataframe thead th {\n",
       "        text-align: right;\n",
       "    }\n",
       "</style>\n",
       "<table border=\"1\" class=\"dataframe\">\n",
       "  <thead>\n",
       "    <tr style=\"text-align: right;\">\n",
       "      <th></th>\n",
       "      <th>STATION</th>\n",
       "      <th>DATE</th>\n",
       "      <th>SOURCE</th>\n",
       "      <th>LATITUDE</th>\n",
       "      <th>LONGITUDE</th>\n",
       "      <th>ELEVATION</th>\n",
       "      <th>NAME</th>\n",
       "      <th>REPORT_TYPE</th>\n",
       "      <th>CALL_SIGN</th>\n",
       "      <th>QUALITY_CONTROL</th>\n",
       "      <th>WND</th>\n",
       "      <th>CIG</th>\n",
       "      <th>VIS</th>\n",
       "      <th>TMP</th>\n",
       "      <th>DEW</th>\n",
       "      <th>SLP</th>\n",
       "      <th>MD1</th>\n",
       "      <th>OD1</th>\n",
       "      <th>SA1</th>\n",
       "      <th>REM</th>\n",
       "    </tr>\n",
       "  </thead>\n",
       "  <tbody>\n",
       "    <tr>\n",
       "      <th>0</th>\n",
       "      <td>99401899999</td>\n",
       "      <td>2022-01-01T00:00:00</td>\n",
       "      <td>4</td>\n",
       "      <td>32.867</td>\n",
       "      <td>-117.258</td>\n",
       "      <td>2.0</td>\n",
       "      <td>LA JOLLA, CA US</td>\n",
       "      <td>FM-13</td>\n",
       "      <td>99999</td>\n",
       "      <td>V020</td>\n",
       "      <td>290,1,N,0082,1</td>\n",
       "      <td>99999,9,9,N</td>\n",
       "      <td>999999,9,9,9</td>\n",
       "      <td>+0135,1</td>\n",
       "      <td>+9999,9</td>\n",
       "      <td>10073,1</td>\n",
       "      <td>3,1,003,1,+999,9</td>\n",
       "      <td>5,99,0098,1,999</td>\n",
       "      <td>+154,1</td>\n",
       "      <td>SYN080LJAC1 46/// /2916 10135 40073 53003 9000...</td>\n",
       "    </tr>\n",
       "    <tr>\n",
       "      <th>1</th>\n",
       "      <td>99401899999</td>\n",
       "      <td>2022-01-01T01:00:00</td>\n",
       "      <td>4</td>\n",
       "      <td>32.867</td>\n",
       "      <td>-117.258</td>\n",
       "      <td>2.0</td>\n",
       "      <td>LA JOLLA, CA US</td>\n",
       "      <td>FM-13</td>\n",
       "      <td>99999</td>\n",
       "      <td>V020</td>\n",
       "      <td>270,1,N,0062,1</td>\n",
       "      <td>99999,9,9,N</td>\n",
       "      <td>999999,9,9,9</td>\n",
       "      <td>+0134,1</td>\n",
       "      <td>+9999,9</td>\n",
       "      <td>10074,1</td>\n",
       "      <td>2,1,008,1,+999,9</td>\n",
       "      <td>5,99,0082,1,999</td>\n",
       "      <td>+153,1</td>\n",
       "      <td>SYN080LJAC1 46/// /2712 10134 40074 52008 9010...</td>\n",
       "    </tr>\n",
       "    <tr>\n",
       "      <th>2</th>\n",
       "      <td>99401899999</td>\n",
       "      <td>2022-01-01T02:00:00</td>\n",
       "      <td>4</td>\n",
       "      <td>32.867</td>\n",
       "      <td>-117.258</td>\n",
       "      <td>2.0</td>\n",
       "      <td>LA JOLLA, CA US</td>\n",
       "      <td>FM-13</td>\n",
       "      <td>99999</td>\n",
       "      <td>V020</td>\n",
       "      <td>280,1,N,0057,1</td>\n",
       "      <td>99999,9,9,N</td>\n",
       "      <td>999999,9,9,9</td>\n",
       "      <td>+0132,1</td>\n",
       "      <td>+9999,9</td>\n",
       "      <td>10081,1</td>\n",
       "      <td>3,1,013,1,+999,9</td>\n",
       "      <td>5,99,0072,1,999</td>\n",
       "      <td>+152,1</td>\n",
       "      <td>SYN080LJAC1 46/// /2811 10132 40081 53013 9020...</td>\n",
       "    </tr>\n",
       "    <tr>\n",
       "      <th>3</th>\n",
       "      <td>99401899999</td>\n",
       "      <td>2022-01-01T03:00:00</td>\n",
       "      <td>4</td>\n",
       "      <td>32.867</td>\n",
       "      <td>-117.258</td>\n",
       "      <td>2.0</td>\n",
       "      <td>LA JOLLA, CA US</td>\n",
       "      <td>FM-13</td>\n",
       "      <td>99999</td>\n",
       "      <td>V020</td>\n",
       "      <td>280,1,N,0046,1</td>\n",
       "      <td>99999,9,9,N</td>\n",
       "      <td>999999,9,9,9</td>\n",
       "      <td>+0131,1</td>\n",
       "      <td>+9999,9</td>\n",
       "      <td>10087,1</td>\n",
       "      <td>3,1,014,1,+999,9</td>\n",
       "      <td>5,99,0067,1,999</td>\n",
       "      <td>+152,1</td>\n",
       "      <td>SYN080LJAC1 46/// /2809 10131 40087 53014 9030...</td>\n",
       "    </tr>\n",
       "    <tr>\n",
       "      <th>4</th>\n",
       "      <td>99401899999</td>\n",
       "      <td>2022-01-01T04:00:00</td>\n",
       "      <td>4</td>\n",
       "      <td>32.867</td>\n",
       "      <td>-117.258</td>\n",
       "      <td>2.0</td>\n",
       "      <td>LA JOLLA, CA US</td>\n",
       "      <td>FM-13</td>\n",
       "      <td>99999</td>\n",
       "      <td>V020</td>\n",
       "      <td>250,1,N,0057,1</td>\n",
       "      <td>99999,9,9,N</td>\n",
       "      <td>999999,9,9,9</td>\n",
       "      <td>+0133,1</td>\n",
       "      <td>+9999,9</td>\n",
       "      <td>10094,1</td>\n",
       "      <td>2,1,020,1,+999,9</td>\n",
       "      <td>5,99,0062,1,999</td>\n",
       "      <td>+153,1</td>\n",
       "      <td>SYN080LJAC1 46/// /2511 10133 40094 52020 9040...</td>\n",
       "    </tr>\n",
       "  </tbody>\n",
       "</table>\n",
       "</div>"
      ],
      "text/plain": [
       "       STATION                 DATE  SOURCE  LATITUDE  LONGITUDE  ELEVATION  \\\n",
       "0  99401899999  2022-01-01T00:00:00       4    32.867   -117.258        2.0   \n",
       "1  99401899999  2022-01-01T01:00:00       4    32.867   -117.258        2.0   \n",
       "2  99401899999  2022-01-01T02:00:00       4    32.867   -117.258        2.0   \n",
       "3  99401899999  2022-01-01T03:00:00       4    32.867   -117.258        2.0   \n",
       "4  99401899999  2022-01-01T04:00:00       4    32.867   -117.258        2.0   \n",
       "\n",
       "              NAME REPORT_TYPE  CALL_SIGN QUALITY_CONTROL             WND  \\\n",
       "0  LA JOLLA, CA US       FM-13      99999            V020  290,1,N,0082,1   \n",
       "1  LA JOLLA, CA US       FM-13      99999            V020  270,1,N,0062,1   \n",
       "2  LA JOLLA, CA US       FM-13      99999            V020  280,1,N,0057,1   \n",
       "3  LA JOLLA, CA US       FM-13      99999            V020  280,1,N,0046,1   \n",
       "4  LA JOLLA, CA US       FM-13      99999            V020  250,1,N,0057,1   \n",
       "\n",
       "           CIG           VIS      TMP      DEW      SLP               MD1  \\\n",
       "0  99999,9,9,N  999999,9,9,9  +0135,1  +9999,9  10073,1  3,1,003,1,+999,9   \n",
       "1  99999,9,9,N  999999,9,9,9  +0134,1  +9999,9  10074,1  2,1,008,1,+999,9   \n",
       "2  99999,9,9,N  999999,9,9,9  +0132,1  +9999,9  10081,1  3,1,013,1,+999,9   \n",
       "3  99999,9,9,N  999999,9,9,9  +0131,1  +9999,9  10087,1  3,1,014,1,+999,9   \n",
       "4  99999,9,9,N  999999,9,9,9  +0133,1  +9999,9  10094,1  2,1,020,1,+999,9   \n",
       "\n",
       "               OD1     SA1                                                REM  \n",
       "0  5,99,0098,1,999  +154,1  SYN080LJAC1 46/// /2916 10135 40073 53003 9000...  \n",
       "1  5,99,0082,1,999  +153,1  SYN080LJAC1 46/// /2712 10134 40074 52008 9010...  \n",
       "2  5,99,0072,1,999  +152,1  SYN080LJAC1 46/// /2811 10132 40081 53013 9020...  \n",
       "3  5,99,0067,1,999  +152,1  SYN080LJAC1 46/// /2809 10131 40087 53014 9030...  \n",
       "4  5,99,0062,1,999  +153,1  SYN080LJAC1 46/// /2511 10133 40094 52020 9040...  "
      ]
     },
     "execution_count": 11,
     "metadata": {},
     "output_type": "execute_result"
    }
   ],
   "source": [
    "weather_df.head()"
   ]
  },
  {
   "cell_type": "code",
   "execution_count": 12,
   "metadata": {},
   "outputs": [],
   "source": [
    "weather_df['datetime'] = pd.to_datetime(weather_df['DATE'])\n",
    "weather_df.drop(columns=['DATE'], inplace=True)"
   ]
  },
  {
   "cell_type": "code",
   "execution_count": 13,
   "metadata": {},
   "outputs": [],
   "source": [
    "weather_df.drop(columns=['STATION','SOURCE', 'LATITUDE', 'LONGITUDE', 'ELEVATION','CIG','VIS','DEW',\n",
    "                         'NAME', 'CALL_SIGN','QUALITY_CONTROL','REPORT_TYPE','SLP','MD1','OD1','REM'],\n",
    "                         inplace= True)"
   ]
  },
  {
   "cell_type": "markdown",
   "metadata": {},
   "source": [
    "Drop N/A (`+999,9`) value rows"
   ]
  },
  {
   "cell_type": "code",
   "execution_count": 14,
   "metadata": {},
   "outputs": [],
   "source": [
    "weather_df = weather_df[weather_df['TMP'] != \"+9999,9\"]"
   ]
  },
  {
   "cell_type": "code",
   "execution_count": 15,
   "metadata": {},
   "outputs": [],
   "source": [
    "weather_df['TMP'] = weather_df['TMP'].str.replace(',1', '').astype(float)\n",
    "weather_df['TMP'] = weather_df['TMP'] / 10\n",
    "\n",
    "weather_df['SA1'] = weather_df['SA1'].str.replace(',1', '').astype(float)\n",
    "weather_df['SA1'] = weather_df['SA1'] / 10"
   ]
  },
  {
   "cell_type": "code",
   "execution_count": 16,
   "metadata": {},
   "outputs": [],
   "source": [
    "weather_df = weather_df[['datetime', 'TMP', 'SA1', 'WND']]\n",
    "weather_df = weather_df.rename(columns={'TMP': 'Dry_Bulb Temp', 'SA1': 'Sea_Surface_Temp', 'WND': 'Wind'})"
   ]
  },
  {
   "cell_type": "code",
   "execution_count": 17,
   "metadata": {},
   "outputs": [],
   "source": [
    "weather_df[['Wind_Degree', 'Wind_Speed']] = weather_df['Wind'].str.split(',', expand=True).iloc[:, [0, 3]]\n",
    "weather_df['Wind_Degree'] = weather_df['Wind_Degree'].astype(float)\n",
    "weather_df['Wind_Speed'] = weather_df['Wind_Speed'].astype(float)\n",
    "weather_df['Wind_Speed'] /= 10\n",
    "weather_df.drop(columns=['Wind'],inplace=True)"
   ]
  },
  {
   "cell_type": "code",
   "execution_count": 18,
   "metadata": {},
   "outputs": [],
   "source": [
    "def degrees_to_cardinal(degrees):\n",
    "    if degrees == 999:\n",
    "        return np.nan\n",
    "    if 45 <= degrees < 135:\n",
    "        return 'East'\n",
    "    elif 135 <= degrees < 225:\n",
    "        return 'South'\n",
    "    elif 225 <= degrees < 315:\n",
    "        return 'West'\n",
    "    else:\n",
    "        return 'North'\n",
    "\n",
    "weather_df['Wind_Direction'] = weather_df['Wind_Degree'].apply(degrees_to_cardinal)"
   ]
  },
  {
   "cell_type": "code",
   "execution_count": 19,
   "metadata": {},
   "outputs": [
    {
     "data": {
      "text/html": [
       "<div>\n",
       "<style scoped>\n",
       "    .dataframe tbody tr th:only-of-type {\n",
       "        vertical-align: middle;\n",
       "    }\n",
       "\n",
       "    .dataframe tbody tr th {\n",
       "        vertical-align: top;\n",
       "    }\n",
       "\n",
       "    .dataframe thead th {\n",
       "        text-align: right;\n",
       "    }\n",
       "</style>\n",
       "<table border=\"1\" class=\"dataframe\">\n",
       "  <thead>\n",
       "    <tr style=\"text-align: right;\">\n",
       "      <th></th>\n",
       "      <th>datetime</th>\n",
       "      <th>Dry_Bulb Temp</th>\n",
       "      <th>Sea_Surface_Temp</th>\n",
       "      <th>Wind_Degree</th>\n",
       "      <th>Wind_Speed</th>\n",
       "      <th>Wind_Direction</th>\n",
       "    </tr>\n",
       "  </thead>\n",
       "  <tbody>\n",
       "    <tr>\n",
       "      <th>0</th>\n",
       "      <td>2022-01-01 00:00:00</td>\n",
       "      <td>13.5</td>\n",
       "      <td>15.4</td>\n",
       "      <td>290.0</td>\n",
       "      <td>8.2</td>\n",
       "      <td>West</td>\n",
       "    </tr>\n",
       "    <tr>\n",
       "      <th>1</th>\n",
       "      <td>2022-01-01 01:00:00</td>\n",
       "      <td>13.4</td>\n",
       "      <td>15.3</td>\n",
       "      <td>270.0</td>\n",
       "      <td>6.2</td>\n",
       "      <td>West</td>\n",
       "    </tr>\n",
       "    <tr>\n",
       "      <th>2</th>\n",
       "      <td>2022-01-01 02:00:00</td>\n",
       "      <td>13.2</td>\n",
       "      <td>15.2</td>\n",
       "      <td>280.0</td>\n",
       "      <td>5.7</td>\n",
       "      <td>West</td>\n",
       "    </tr>\n",
       "    <tr>\n",
       "      <th>3</th>\n",
       "      <td>2022-01-01 03:00:00</td>\n",
       "      <td>13.1</td>\n",
       "      <td>15.2</td>\n",
       "      <td>280.0</td>\n",
       "      <td>4.6</td>\n",
       "      <td>West</td>\n",
       "    </tr>\n",
       "    <tr>\n",
       "      <th>4</th>\n",
       "      <td>2022-01-01 04:00:00</td>\n",
       "      <td>13.3</td>\n",
       "      <td>15.3</td>\n",
       "      <td>250.0</td>\n",
       "      <td>5.7</td>\n",
       "      <td>West</td>\n",
       "    </tr>\n",
       "  </tbody>\n",
       "</table>\n",
       "</div>"
      ],
      "text/plain": [
       "             datetime  Dry_Bulb Temp  Sea_Surface_Temp  Wind_Degree  \\\n",
       "0 2022-01-01 00:00:00           13.5              15.4        290.0   \n",
       "1 2022-01-01 01:00:00           13.4              15.3        270.0   \n",
       "2 2022-01-01 02:00:00           13.2              15.2        280.0   \n",
       "3 2022-01-01 03:00:00           13.1              15.2        280.0   \n",
       "4 2022-01-01 04:00:00           13.3              15.3        250.0   \n",
       "\n",
       "   Wind_Speed Wind_Direction  \n",
       "0         8.2           West  \n",
       "1         6.2           West  \n",
       "2         5.7           West  \n",
       "3         4.6           West  \n",
       "4         5.7           West  "
      ]
     },
     "execution_count": 19,
     "metadata": {},
     "output_type": "execute_result"
    }
   ],
   "source": [
    "weather_df.head()"
   ]
  },
  {
   "cell_type": "markdown",
   "metadata": {},
   "source": [
    "# Results\n",
    "\n",
    "## Exploratory Data Analysis"
   ]
  },
  {
   "cell_type": "markdown",
   "metadata": {},
   "source": [
    "### WongAvery Library EDA\n",
    "\n",
    "We perform EDA on the WongAvery Library dataset and primarily examine distribution and number trends over time."
   ]
  },
  {
   "cell_type": "code",
   "execution_count": 20,
   "metadata": {},
   "outputs": [],
   "source": [
    "WongAvery_Merged_df = WongAvery_Merged_df.drop([986, 1804]) #Drop outlier index"
   ]
  },
  {
   "cell_type": "markdown",
   "metadata": {},
   "source": [
    "We dropped index 986, 1804 because we identified these specific datapoints as outliers as it is highly unlikely that WongAvery Library had 28,406 (for index 986), 6,790 (for index 1804) people coming in. The data collected during these two specific datapoints also didn't correlate with the number trends shown during the time stamps immediately before and after the datapoint. We concluded these datapoints were generated as a result of system failure and decided to drop the two indexes as shown in the code above."
   ]
  },
  {
   "cell_type": "markdown",
   "metadata": {},
   "source": [
    "We first examined the distribution of in, out counts and the difference of in-out counts."
   ]
  },
  {
   "cell_type": "code",
   "execution_count": 21,
   "metadata": {},
   "outputs": [
    {
     "ename": "ValueError",
     "evalue": "Multi-dimensional indexing (e.g. `obj[:, None]`) is no longer supported. Convert to a numpy array before indexing instead.",
     "output_type": "error",
     "traceback": [
      "\u001b[0;31m---------------------------------------------------------------------------\u001b[0m",
      "\u001b[0;31mValueError\u001b[0m                                Traceback (most recent call last)",
      "\u001b[0;32m/tmp/ipykernel_1556/1958886312.py\u001b[0m in \u001b[0;36m<module>\u001b[0;34m\u001b[0m\n\u001b[1;32m      3\u001b[0m \u001b[0;34m\u001b[0m\u001b[0m\n\u001b[1;32m      4\u001b[0m \u001b[0;31m# Histogram for 'In'\u001b[0m\u001b[0;34m\u001b[0m\u001b[0;34m\u001b[0m\u001b[0;34m\u001b[0m\u001b[0m\n\u001b[0;32m----> 5\u001b[0;31m \u001b[0msns\u001b[0m\u001b[0;34m.\u001b[0m\u001b[0mhistplot\u001b[0m\u001b[0;34m(\u001b[0m\u001b[0mWongAvery_Merged_df\u001b[0m\u001b[0;34m[\u001b[0m\u001b[0;34m'In'\u001b[0m\u001b[0;34m]\u001b[0m\u001b[0;34m,\u001b[0m \u001b[0mbins\u001b[0m \u001b[0;34m=\u001b[0m \u001b[0;36m30\u001b[0m\u001b[0;34m,\u001b[0m \u001b[0max\u001b[0m \u001b[0;34m=\u001b[0m \u001b[0maxes\u001b[0m\u001b[0;34m[\u001b[0m\u001b[0;36m0\u001b[0m\u001b[0;34m]\u001b[0m\u001b[0;34m,\u001b[0m \u001b[0mkde\u001b[0m \u001b[0;34m=\u001b[0m \u001b[0;32mTrue\u001b[0m\u001b[0;34m)\u001b[0m\u001b[0;34m\u001b[0m\u001b[0;34m\u001b[0m\u001b[0m\n\u001b[0m\u001b[1;32m      6\u001b[0m \u001b[0maxes\u001b[0m\u001b[0;34m[\u001b[0m\u001b[0;36m0\u001b[0m\u001b[0;34m]\u001b[0m\u001b[0;34m.\u001b[0m\u001b[0mset_title\u001b[0m\u001b[0;34m(\u001b[0m\u001b[0;34m'Distribution of In Counts'\u001b[0m\u001b[0;34m)\u001b[0m\u001b[0;34m\u001b[0m\u001b[0;34m\u001b[0m\u001b[0m\n\u001b[1;32m      7\u001b[0m \u001b[0;34m\u001b[0m\u001b[0m\n",
      "\u001b[0;32m/opt/conda/lib/python3.9/site-packages/seaborn/distributions.py\u001b[0m in \u001b[0;36mhistplot\u001b[0;34m(data, x, y, hue, weights, stat, bins, binwidth, binrange, discrete, cumulative, common_bins, common_norm, multiple, element, fill, shrink, kde, kde_kws, line_kws, thresh, pthresh, pmax, cbar, cbar_ax, cbar_kws, palette, hue_order, hue_norm, color, log_scale, legend, ax, **kwargs)\u001b[0m\n\u001b[1;32m   1421\u001b[0m     \u001b[0;32mif\u001b[0m \u001b[0mp\u001b[0m\u001b[0;34m.\u001b[0m\u001b[0munivariate\u001b[0m\u001b[0;34m:\u001b[0m\u001b[0;34m\u001b[0m\u001b[0;34m\u001b[0m\u001b[0m\n\u001b[1;32m   1422\u001b[0m \u001b[0;34m\u001b[0m\u001b[0m\n\u001b[0;32m-> 1423\u001b[0;31m         p.plot_univariate_histogram(\n\u001b[0m\u001b[1;32m   1424\u001b[0m             \u001b[0mmultiple\u001b[0m\u001b[0;34m=\u001b[0m\u001b[0mmultiple\u001b[0m\u001b[0;34m,\u001b[0m\u001b[0;34m\u001b[0m\u001b[0;34m\u001b[0m\u001b[0m\n\u001b[1;32m   1425\u001b[0m             \u001b[0melement\u001b[0m\u001b[0;34m=\u001b[0m\u001b[0melement\u001b[0m\u001b[0;34m,\u001b[0m\u001b[0;34m\u001b[0m\u001b[0;34m\u001b[0m\u001b[0m\n",
      "\u001b[0;32m/opt/conda/lib/python3.9/site-packages/seaborn/distributions.py\u001b[0m in \u001b[0;36mplot_univariate_histogram\u001b[0;34m(self, multiple, element, fill, common_norm, common_bins, shrink, kde, kde_kws, color, legend, line_kws, estimate_kws, **plot_kws)\u001b[0m\n\u001b[1;32m    632\u001b[0m \u001b[0;34m\u001b[0m\u001b[0m\n\u001b[1;32m    633\u001b[0m                 \u001b[0mline_kws\u001b[0m\u001b[0;34m[\u001b[0m\u001b[0;34m\"color\"\u001b[0m\u001b[0;34m]\u001b[0m \u001b[0;34m=\u001b[0m \u001b[0mto_rgba\u001b[0m\u001b[0;34m(\u001b[0m\u001b[0mcolor\u001b[0m\u001b[0;34m,\u001b[0m \u001b[0;36m1\u001b[0m\u001b[0;34m)\u001b[0m\u001b[0;34m\u001b[0m\u001b[0;34m\u001b[0m\u001b[0m\n\u001b[0;32m--> 634\u001b[0;31m                 line, = ax.plot(\n\u001b[0m\u001b[1;32m    635\u001b[0m                     \u001b[0;34m*\u001b[0m\u001b[0mline_args\u001b[0m\u001b[0;34m,\u001b[0m \u001b[0;34m**\u001b[0m\u001b[0mline_kws\u001b[0m\u001b[0;34m,\u001b[0m\u001b[0;34m\u001b[0m\u001b[0;34m\u001b[0m\u001b[0m\n\u001b[1;32m    636\u001b[0m                 )\n",
      "\u001b[0;32m/opt/conda/lib/python3.9/site-packages/matplotlib/axes/_axes.py\u001b[0m in \u001b[0;36mplot\u001b[0;34m(self, scalex, scaley, data, *args, **kwargs)\u001b[0m\n\u001b[1;32m   1603\u001b[0m         \"\"\"\n\u001b[1;32m   1604\u001b[0m         \u001b[0mkwargs\u001b[0m \u001b[0;34m=\u001b[0m \u001b[0mcbook\u001b[0m\u001b[0;34m.\u001b[0m\u001b[0mnormalize_kwargs\u001b[0m\u001b[0;34m(\u001b[0m\u001b[0mkwargs\u001b[0m\u001b[0;34m,\u001b[0m \u001b[0mmlines\u001b[0m\u001b[0;34m.\u001b[0m\u001b[0mLine2D\u001b[0m\u001b[0;34m)\u001b[0m\u001b[0;34m\u001b[0m\u001b[0;34m\u001b[0m\u001b[0m\n\u001b[0;32m-> 1605\u001b[0;31m         \u001b[0mlines\u001b[0m \u001b[0;34m=\u001b[0m \u001b[0;34m[\u001b[0m\u001b[0;34m*\u001b[0m\u001b[0mself\u001b[0m\u001b[0;34m.\u001b[0m\u001b[0m_get_lines\u001b[0m\u001b[0;34m(\u001b[0m\u001b[0;34m*\u001b[0m\u001b[0margs\u001b[0m\u001b[0;34m,\u001b[0m \u001b[0mdata\u001b[0m\u001b[0;34m=\u001b[0m\u001b[0mdata\u001b[0m\u001b[0;34m,\u001b[0m \u001b[0;34m**\u001b[0m\u001b[0mkwargs\u001b[0m\u001b[0;34m)\u001b[0m\u001b[0;34m]\u001b[0m\u001b[0;34m\u001b[0m\u001b[0;34m\u001b[0m\u001b[0m\n\u001b[0m\u001b[1;32m   1606\u001b[0m         \u001b[0;32mfor\u001b[0m \u001b[0mline\u001b[0m \u001b[0;32min\u001b[0m \u001b[0mlines\u001b[0m\u001b[0;34m:\u001b[0m\u001b[0;34m\u001b[0m\u001b[0;34m\u001b[0m\u001b[0m\n\u001b[1;32m   1607\u001b[0m             \u001b[0mself\u001b[0m\u001b[0;34m.\u001b[0m\u001b[0madd_line\u001b[0m\u001b[0;34m(\u001b[0m\u001b[0mline\u001b[0m\u001b[0;34m)\u001b[0m\u001b[0;34m\u001b[0m\u001b[0;34m\u001b[0m\u001b[0m\n",
      "\u001b[0;32m/opt/conda/lib/python3.9/site-packages/matplotlib/axes/_base.py\u001b[0m in \u001b[0;36m__call__\u001b[0;34m(self, data, *args, **kwargs)\u001b[0m\n\u001b[1;32m    313\u001b[0m                 \u001b[0mthis\u001b[0m \u001b[0;34m+=\u001b[0m \u001b[0margs\u001b[0m\u001b[0;34m[\u001b[0m\u001b[0;36m0\u001b[0m\u001b[0;34m]\u001b[0m\u001b[0;34m,\u001b[0m\u001b[0;34m\u001b[0m\u001b[0;34m\u001b[0m\u001b[0m\n\u001b[1;32m    314\u001b[0m                 \u001b[0margs\u001b[0m \u001b[0;34m=\u001b[0m \u001b[0margs\u001b[0m\u001b[0;34m[\u001b[0m\u001b[0;36m1\u001b[0m\u001b[0;34m:\u001b[0m\u001b[0;34m]\u001b[0m\u001b[0;34m\u001b[0m\u001b[0;34m\u001b[0m\u001b[0m\n\u001b[0;32m--> 315\u001b[0;31m             \u001b[0;32myield\u001b[0m \u001b[0;32mfrom\u001b[0m \u001b[0mself\u001b[0m\u001b[0;34m.\u001b[0m\u001b[0m_plot_args\u001b[0m\u001b[0;34m(\u001b[0m\u001b[0mthis\u001b[0m\u001b[0;34m,\u001b[0m \u001b[0mkwargs\u001b[0m\u001b[0;34m)\u001b[0m\u001b[0;34m\u001b[0m\u001b[0;34m\u001b[0m\u001b[0m\n\u001b[0m\u001b[1;32m    316\u001b[0m \u001b[0;34m\u001b[0m\u001b[0m\n\u001b[1;32m    317\u001b[0m     \u001b[0;32mdef\u001b[0m \u001b[0mget_next_color\u001b[0m\u001b[0;34m(\u001b[0m\u001b[0mself\u001b[0m\u001b[0;34m)\u001b[0m\u001b[0;34m:\u001b[0m\u001b[0;34m\u001b[0m\u001b[0;34m\u001b[0m\u001b[0m\n",
      "\u001b[0;32m/opt/conda/lib/python3.9/site-packages/matplotlib/axes/_base.py\u001b[0m in \u001b[0;36m_plot_args\u001b[0;34m(self, tup, kwargs, return_kwargs)\u001b[0m\n\u001b[1;32m    488\u001b[0m \u001b[0;34m\u001b[0m\u001b[0m\n\u001b[1;32m    489\u001b[0m         \u001b[0;32mif\u001b[0m \u001b[0mlen\u001b[0m\u001b[0;34m(\u001b[0m\u001b[0mxy\u001b[0m\u001b[0;34m)\u001b[0m \u001b[0;34m==\u001b[0m \u001b[0;36m2\u001b[0m\u001b[0;34m:\u001b[0m\u001b[0;34m\u001b[0m\u001b[0;34m\u001b[0m\u001b[0m\n\u001b[0;32m--> 490\u001b[0;31m             \u001b[0mx\u001b[0m \u001b[0;34m=\u001b[0m \u001b[0m_check_1d\u001b[0m\u001b[0;34m(\u001b[0m\u001b[0mxy\u001b[0m\u001b[0;34m[\u001b[0m\u001b[0;36m0\u001b[0m\u001b[0;34m]\u001b[0m\u001b[0;34m)\u001b[0m\u001b[0;34m\u001b[0m\u001b[0;34m\u001b[0m\u001b[0m\n\u001b[0m\u001b[1;32m    491\u001b[0m             \u001b[0my\u001b[0m \u001b[0;34m=\u001b[0m \u001b[0m_check_1d\u001b[0m\u001b[0;34m(\u001b[0m\u001b[0mxy\u001b[0m\u001b[0;34m[\u001b[0m\u001b[0;36m1\u001b[0m\u001b[0;34m]\u001b[0m\u001b[0;34m)\u001b[0m\u001b[0;34m\u001b[0m\u001b[0;34m\u001b[0m\u001b[0m\n\u001b[1;32m    492\u001b[0m         \u001b[0;32melse\u001b[0m\u001b[0;34m:\u001b[0m\u001b[0;34m\u001b[0m\u001b[0;34m\u001b[0m\u001b[0m\n",
      "\u001b[0;32m/opt/conda/lib/python3.9/site-packages/matplotlib/cbook/__init__.py\u001b[0m in \u001b[0;36m_check_1d\u001b[0;34m(x)\u001b[0m\n\u001b[1;32m   1360\u001b[0m                     message='Support for multi-dimensional indexing')\n\u001b[1;32m   1361\u001b[0m \u001b[0;34m\u001b[0m\u001b[0m\n\u001b[0;32m-> 1362\u001b[0;31m                 \u001b[0mndim\u001b[0m \u001b[0;34m=\u001b[0m \u001b[0mx\u001b[0m\u001b[0;34m[\u001b[0m\u001b[0;34m:\u001b[0m\u001b[0;34m,\u001b[0m \u001b[0;32mNone\u001b[0m\u001b[0;34m]\u001b[0m\u001b[0;34m.\u001b[0m\u001b[0mndim\u001b[0m\u001b[0;34m\u001b[0m\u001b[0;34m\u001b[0m\u001b[0m\n\u001b[0m\u001b[1;32m   1363\u001b[0m                 \u001b[0;31m# we have definitely hit a pandas index or series object\u001b[0m\u001b[0;34m\u001b[0m\u001b[0;34m\u001b[0m\u001b[0;34m\u001b[0m\u001b[0m\n\u001b[1;32m   1364\u001b[0m                 \u001b[0;31m# cast to a numpy array.\u001b[0m\u001b[0;34m\u001b[0m\u001b[0;34m\u001b[0m\u001b[0;34m\u001b[0m\u001b[0m\n",
      "\u001b[0;32m/opt/conda/lib/python3.9/site-packages/pandas/core/indexes/base.py\u001b[0m in \u001b[0;36m__getitem__\u001b[0;34m(self, key)\u001b[0m\n\u001b[1;32m   5197\u001b[0m         \u001b[0;31m# Because we ruled out integer above, we always get an arraylike here\u001b[0m\u001b[0;34m\u001b[0m\u001b[0;34m\u001b[0m\u001b[0;34m\u001b[0m\u001b[0m\n\u001b[1;32m   5198\u001b[0m         \u001b[0;32mif\u001b[0m \u001b[0mresult\u001b[0m\u001b[0;34m.\u001b[0m\u001b[0mndim\u001b[0m \u001b[0;34m>\u001b[0m \u001b[0;36m1\u001b[0m\u001b[0;34m:\u001b[0m\u001b[0;34m\u001b[0m\u001b[0;34m\u001b[0m\u001b[0m\n\u001b[0;32m-> 5199\u001b[0;31m             \u001b[0mdisallow_ndim_indexing\u001b[0m\u001b[0;34m(\u001b[0m\u001b[0mresult\u001b[0m\u001b[0;34m)\u001b[0m\u001b[0;34m\u001b[0m\u001b[0;34m\u001b[0m\u001b[0m\n\u001b[0m\u001b[1;32m   5200\u001b[0m \u001b[0;34m\u001b[0m\u001b[0m\n\u001b[1;32m   5201\u001b[0m         \u001b[0;31m# NB: Using _constructor._simple_new would break if MultiIndex\u001b[0m\u001b[0;34m\u001b[0m\u001b[0;34m\u001b[0m\u001b[0;34m\u001b[0m\u001b[0m\n",
      "\u001b[0;32m/opt/conda/lib/python3.9/site-packages/pandas/core/indexers/utils.py\u001b[0m in \u001b[0;36mdisallow_ndim_indexing\u001b[0;34m(result)\u001b[0m\n\u001b[1;32m    341\u001b[0m     \"\"\"\n\u001b[1;32m    342\u001b[0m     \u001b[0;32mif\u001b[0m \u001b[0mnp\u001b[0m\u001b[0;34m.\u001b[0m\u001b[0mndim\u001b[0m\u001b[0;34m(\u001b[0m\u001b[0mresult\u001b[0m\u001b[0;34m)\u001b[0m \u001b[0;34m>\u001b[0m \u001b[0;36m1\u001b[0m\u001b[0;34m:\u001b[0m\u001b[0;34m\u001b[0m\u001b[0;34m\u001b[0m\u001b[0m\n\u001b[0;32m--> 343\u001b[0;31m         raise ValueError(\n\u001b[0m\u001b[1;32m    344\u001b[0m             \u001b[0;34m\"Multi-dimensional indexing (e.g. `obj[:, None]`) is no longer \"\u001b[0m\u001b[0;34m\u001b[0m\u001b[0;34m\u001b[0m\u001b[0m\n\u001b[1;32m    345\u001b[0m             \u001b[0;34m\"supported. Convert to a numpy array before indexing instead.\"\u001b[0m\u001b[0;34m\u001b[0m\u001b[0;34m\u001b[0m\u001b[0m\n",
      "\u001b[0;31mValueError\u001b[0m: Multi-dimensional indexing (e.g. `obj[:, None]`) is no longer supported. Convert to a numpy array before indexing instead."
     ]
    },
    {
     "data": {
      "image/png": "[encoded data removed]",
      "text/plain": [
       "<Figure size 1296x360 with 3 Axes>"
      ]
     },
     "metadata": {},
     "output_type": "display_data"
    }
   ],
   "source": [
    "sns.set(style = \"whitegrid\")\n",
    "fig, axes = plt.subplots(1, 3, figsize = (18, 5))\n",
    "\n",
    "# Histogram for 'In'\n",
    "sns.histplot(WongAvery_Merged_df['In'], bins = 30, ax = axes[0], kde = True)\n",
    "axes[0].set_title('Distribution of In Counts')\n",
    "\n",
    "# Histogram for 'Out'\n",
    "sns.histplot(WongAvery_Merged_df['Out'], bins = 30, ax = axes[1], kde = True)\n",
    "axes[1].set_title('Distribution of Out Counts')\n",
    "\n",
    "# Histogram for 'In_Out_Diff'\n",
    "sns.histplot(WongAvery_Merged_df['In_Out_Diff'], bins = 30, ax = axes[2], kde = True)\n",
    "axes[2].set_title('Distribution of In-Out Difference')\n",
    "\n",
    "plt.tight_layout()\n",
    "plt.show()\n",
    "\n",
    "# Descriptive Statistics\n",
    "descriptive_stats = WongAvery_Merged_df[['In', 'Out', 'In_Out_Diff']].describe()\n",
    "print(descriptive_stats)"
   ]
  },
  {
   "cell_type": "code",
   "execution_count": null,
   "metadata": {},
   "outputs": [],
   "source": [
    "quarters = {\n",
    "    'Fall': {'start': '2022-09-19', 'end': '2022-12-10'},\n",
    "    'Winter': {'start': '2023-01-04', 'end': '2023-03-15'},\n",
    "    'Spring': {'start': '2023-03-29', 'end': '2023-06-16'}\n",
    "}\n",
    "\n",
    "def assign_quarter(date, quarters):\n",
    "    for quarter, dates in quarters.items():\n",
    "        if pd.to_datetime(dates['start']) <= date <= pd.to_datetime(dates['end']):\n",
    "            return quarter"
   ]
  },
  {
   "cell_type": "code",
   "execution_count": null,
   "metadata": {},
   "outputs": [],
   "source": [
    "WongAvery_Merged_EDA_df = WongAvery_Merged_df.copy()\n",
    "WongAvery_Merged_EDA_df['hour'] = WongAvery_Merged_EDA_df['datetime'].dt.hour\n",
    "WongAvery_Merged_EDA_df['day'] = WongAvery_Merged_EDA_df['datetime'].dt.day\n",
    "WongAvery_Merged_EDA_df['month'] = WongAvery_Merged_EDA_df['datetime'].dt.month\n",
    "WongAvery_Merged_EDA_df['quarter'] = WongAvery_Merged_EDA_df['datetime'].apply(lambda x: assign_quarter(x, quarters))"
   ]
  },
  {
   "cell_type": "markdown",
   "metadata": {},
   "source": [
    "### Hourly Trend Analysis"
   ]
  },
  {
   "cell_type": "code",
   "execution_count": null,
   "metadata": {},
   "outputs": [],
   "source": [
    "sns.lineplot(x='hour', y='In', hue='quarter', data=WongAvery_Merged_EDA_df, errorbar=None)\n",
    "plt.title('Hourly Trend of IN')\n",
    "plt.xlabel('Hour')\n",
    "plt.ylabel('IN count')\n",
    "plt.show()"
   ]
  },
  {
   "cell_type": "code",
   "execution_count": null,
   "metadata": {},
   "outputs": [],
   "source": [
    "sns.lineplot(x='hour', y='Out', hue='quarter', data=WongAvery_Merged_EDA_df, errorbar=None)\n",
    "plt.title('Hourly Trend of OUT')\n",
    "plt.xlabel('Hour')\n",
    "plt.ylabel('OUT count')\n",
    "plt.show()"
   ]
  },
  {
   "cell_type": "markdown",
   "metadata": {},
   "source": [
    "### Daily Trend Analysis"
   ]
  },
  {
   "cell_type": "code",
   "execution_count": null,
   "metadata": {},
   "outputs": [],
   "source": [
    "daily_trends = WongAvery_Merged_EDA_df.groupby('day').mean()[['In', 'Out', 'In_Out_Diff']]\n",
    "\n",
    "plt.figure(figsize = (12, 6))\n",
    "plt.plot(daily_trends['In'], label = 'Number of people In')\n",
    "plt.plot(daily_trends['Out'], label = 'Number of people Out')\n",
    "plt.plot(daily_trends['In_Out_Diff'], label = 'In-Out Difference')\n",
    "plt.title('Average Daily In/Out Trends of WongAvery Library')\n",
    "plt.xlabel('Day')\n",
    "plt.ylabel('Counts')\n",
    "plt.legend()\n",
    "\n",
    "daily = plt.gcf()\n",
    "daily.show()"
   ]
  },
  {
   "cell_type": "markdown",
   "metadata": {},
   "source": [
    "### Monthly Data Analysis"
   ]
  },
  {
   "cell_type": "code",
   "execution_count": null,
   "metadata": {},
   "outputs": [],
   "source": [
    "monthly_trends = WongAvery_Merged_EDA_df.groupby('month').mean()[['In', 'Out', 'In_Out_Diff']]\n",
    "\n",
    "plt.figure(figsize = (12, 6))\n",
    "plt.plot(monthly_trends['In'], label = 'Number of people In')\n",
    "plt.plot(monthly_trends['Out'], label = 'Number of people Out')\n",
    "plt.plot(monthly_trends['In_Out_Diff'], label = 'In-Out Difference')\n",
    "plt.title('Average Monthly In/Out Trends of WongAvery Library')\n",
    "plt.xlabel('Month')\n",
    "plt.ylabel('Counts')\n",
    "plt.legend()\n",
    "\n",
    "monthly = plt.gcf()\n",
    "monthly.show()"
   ]
  },
  {
   "cell_type": "markdown",
   "metadata": {},
   "source": [
    "### Quarterly Data Analysis"
   ]
  },
  {
   "cell_type": "code",
   "execution_count": null,
   "metadata": {},
   "outputs": [],
   "source": [
    "quarterly_trends = WongAvery_Merged_EDA_df.groupby('quarter').mean()[['In', 'Out', 'In_Out_Diff']]\n",
    "\n",
    "plt.figure(figsize = (10, 4))\n",
    "plt.plot(quarterly_trends['In'], label = 'Number of people In')\n",
    "plt.plot(quarterly_trends['Out'], label = 'Number of people Out')\n",
    "plt.plot(quarterly_trends['In_Out_Diff'], label = 'In-Out Difference')\n",
    "plt.title('Average Quarterly In/Out Trends of WongAvery Library')\n",
    "plt.xlabel('Quarter')\n",
    "plt.ylabel('Counts')\n",
    "plt.legend()\n",
    "\n",
    "quarterly = plt.gcf()\n",
    "quarterly.show()"
   ]
  },
  {
   "cell_type": "markdown",
   "metadata": {},
   "source": [
    "We will now perform EDA within a quarter instead of looking at trends by quarters."
   ]
  },
  {
   "cell_type": "markdown",
   "metadata": {},
   "source": [
    "### Quarter Data Analysis"
   ]
  },
  {
   "cell_type": "code",
   "execution_count": null,
   "metadata": {},
   "outputs": [],
   "source": [
    "fall_range = (WongAvery_Merged_df['datetime'] >= '2022-09-19') & (WongAvery_Merged_df['datetime'] <= '2022-12-10')\n",
    "winter_range = (WongAvery_Merged_df['datetime'] >= '2023-01-04') & (WongAvery_Merged_df['datetime'] <= '2023-03-15')\n",
    "spring_range = (WongAvery_Merged_df['datetime'] >= '2023-03-29') & (WongAvery_Merged_df['datetime'] <= '2023-06-16')\n",
    "\n",
    "fall_df = WongAvery_Merged_df[(WongAvery_Merged_df['datetime'] >= '2022-09-19') & (WongAvery_Merged_df['datetime'] <= '2022-12-10')]\n",
    "winter_df = WongAvery_Merged_df[(WongAvery_Merged_df['datetime'] >= '2023-01-04') & (WongAvery_Merged_df['datetime'] <= '2023-03-15')]\n",
    "spring_df = WongAvery_Merged_df[(WongAvery_Merged_df['datetime'] >= '2023-03-29') & (WongAvery_Merged_df['datetime'] <= '2023-06-16')]"
   ]
  },
  {
   "cell_type": "code",
   "execution_count": null,
   "metadata": {},
   "outputs": [],
   "source": [
    "#Distribution for Fall Quarter\n",
    "sns.histplot(fall_df['In'], bins = 30, kde = True)\n",
    "plt.title('Fall Quarter - Distribution of In Counts')\n",
    "plt.show()\n",
    "\n",
    "sns.histplot(fall_df['Out'], bins=30, kde=True)\n",
    "plt.title('Fall Quarter - Distribution of Out Counts')\n",
    "plt.show()\n",
    "\n",
    "sns.histplot(fall_df['In_Out_Diff'], bins=30, kde=True)\n",
    "plt.title('Fall Quarter - Distribution of In-Out Difference')\n",
    "plt.show()"
   ]
  },
  {
   "cell_type": "code",
   "execution_count": null,
   "metadata": {},
   "outputs": [],
   "source": [
    "\n",
    "#Fall Quarter Hourly Trend\n",
    "fall_df['hour'] = fall_df['datetime'].dt.hour\n",
    "hourly_trends_fall = fall_df.groupby('hour').mean()[['In', 'Out', 'In_Out_Diff']]\n",
    "\n",
    "plt.figure(figsize = (12, 6))\n",
    "plt.plot(hourly_trends_fall['In'], label = 'In')\n",
    "plt.plot(hourly_trends_fall['Out'], label = 'Out')\n",
    "plt.title('Fall Quarter - Hourly Trends')\n",
    "plt.xlabel('Hour of the Day')\n",
    "plt.ylabel('Counts')\n",
    "plt.legend()\n",
    "\n",
    "fall_hourly = plt.gcf()\n",
    "fall_hourly.show()"
   ]
  },
  {
   "cell_type": "code",
   "execution_count": null,
   "metadata": {},
   "outputs": [],
   "source": [
    "\n",
    "#Fall Quarter Daily Trend\n",
    "fall_df['day'] = fall_df['datetime'].dt.day\n",
    "daily_trends_fall = fall_df.groupby('day').mean()[['In', 'Out', 'In_Out_Diff']]\n",
    "\n",
    "plt.figure(figsize = (12, 6))\n",
    "plt.plot(daily_trends_fall['In'], label = 'In')\n",
    "plt.plot(daily_trends_fall['Out'], label = 'Out')\n",
    "plt.title('Fall Quarter - Daily Trends')\n",
    "plt.xlabel('Day')\n",
    "plt.ylabel('Counts')\n",
    "plt.legend()\n",
    "\n",
    "fall_daily = plt.gcf()\n",
    "fall_daily.show()"
   ]
  },
  {
   "cell_type": "code",
   "execution_count": null,
   "metadata": {},
   "outputs": [],
   "source": [
    "\n",
    "#Fall Quarter Weekly Trend\n",
    "fall_df['week'] = fall_df['datetime'].dt.isocalendar().week\n",
    "weekly_trends = fall_df.groupby('week').mean()[['In', 'Out', 'In_Out_Diff']]\n",
    "\n",
    "weekly_trends.plot(kind = 'line', figsize = (12, 6))\n",
    "plt.title('Fall Quarter - Weekly Trends')\n",
    "plt.xlabel('Week Number')\n",
    "plt.ylabel('Counts')\n",
    "plt.legend()\n",
    "\n",
    "fall_weekly = plt.gcf()\n",
    "fall_weekly.show()"
   ]
  },
  {
   "cell_type": "code",
   "execution_count": null,
   "metadata": {},
   "outputs": [],
   "source": [
    "\n",
    "#Fall Quarter Monthly Trend\n",
    "fall_df['month'] = fall_df['datetime'].dt.month\n",
    "monthly_trends_fall = fall_df.groupby('month').mean()[['In', 'Out', 'In_Out_Diff']]\n",
    "\n",
    "plt.figure(figsize = (12, 6))\n",
    "plt.plot(monthly_trends_fall['In'], label = 'In')\n",
    "plt.plot(monthly_trends_fall['Out'], label = 'Out')\n",
    "plt.title('Fall Quarter - Monthly Trends')\n",
    "plt.xlabel('Month')\n",
    "plt.ylabel('Counts')\n",
    "plt.legend()\n",
    "\n",
    "fall_monthly = plt.gcf()\n",
    "fall_monthly.show()\n"
   ]
  },
  {
   "cell_type": "code",
   "execution_count": null,
   "metadata": {},
   "outputs": [],
   "source": [
    "\n",
    "print(fall_df[['In', 'Out', 'In_Out_Diff']].describe())"
   ]
  },
  {
   "cell_type": "code",
   "execution_count": null,
   "metadata": {},
   "outputs": [],
   "source": [
    "fall_df['date'] = fall_df['datetime'].dt.date\n",
    "daily_data = fall_df.groupby('date').agg({'In': 'sum', 'Out': 'sum', 'In_Out_Diff': 'sum'})\n",
    "\n",
    "daily_data.plot(kind = 'line', figsize = (15, 6))\n",
    "plt.title('Fall Quarter - Daily Trends')\n",
    "plt.xlabel('Date')\n",
    "plt.ylabel('Counts')\n",
    "plt.xticks(rotation=45)\n",
    "plt.legend()\n",
    "\n",
    "daily_trend_sum_fall = plt.gcf()\n",
    "daily_trend_sum_fall.show()"
   ]
  },
  {
   "cell_type": "markdown",
   "metadata": {},
   "source": [
    "# Ethics & Privacy"
   ]
  },
  {
   "cell_type": "markdown",
   "metadata": {},
   "source": [
    "\n",
    "- Informed consent\n",
    "\n",
    "    I think that the data our team collected both the weather data and the traffic accident data from a trusted pubblic website,the official San Diego government website.\n",
    "- Collection bias.\n",
    "\n",
    "    The weather and traffic accident data are all observed events, and the data collected is more focued on the facts that happened instead of subjective observation. The factual focused data could help us reduce collection bias.\n",
    "- Limit PII exposure\n",
    "\n",
    "    Our data, though collected from various person and events, do not contain much personally identifiable information, there are no obvious part in our data that can lead to identification of certain indivisual.\n",
    "- Downstream bias mitigation\n",
    "\n",
    "    The data we are using are collected comprehensively thoughout all the traffic accidents rigardless of their race, gender or religious backgrounds.\n",
    "-  Data security\n",
    "\n",
    "    Since the data are public accessible, our job of keeping our own data safe is to make our repo private and only grant access to relative indivisuals.\n",
    "- Right to be forgotten\n",
    "\n",
    "    We'll open a contact portal to the public so that if anyone feels they wish to have their data removed, they have the freedom to do so.\n",
    "- Data retention plan\n",
    "\n",
    "    We plan on delete the data we've collected after week 10\n",
    "- Missing perspectives\n",
    "\n",
    "    We plan on talking to the TA and possibly the professor about our assumption to collect another point of view.\n",
    "- Dataset bias\n",
    "\n",
    "    The dataset is collected by the San Diego government through factual events e.g. weather, temperature, the number and the type of traffic accidents that happened. In conclusion, I think our dataset is mostly bias free, but we can't rule out the bias created by the observer of the event. e.g police officer's view on an accident,\n",
    "- Honest representation\n",
    "\n",
    "    we will try our best in representing the data without any bias\n",
    "- Privacy in analysis\n",
    "\n",
    "    We will insure that data with PII are not used or displayed unless necessary for the analysis\n",
    "- Auditability\n",
    "\n",
    "    We will insure that any analysis we conclude will be reasonable and reproducible"
   ]
  },
  {
   "cell_type": "markdown",
   "metadata": {},
   "source": [
    "# Team Expectations "
   ]
  },
  {
   "cell_type": "markdown",
   "metadata": {},
   "source": [
    "\n",
    "Read over the [COGS108 Team Policies](https://github.com/COGS108/Projects/blob/master/COGS108_TeamPolicies.md) individually. Then, include your group’s expectations of one another for successful completion of your COGS108 project below. Discuss and agree on what all of your expectations are. Discuss how your team will communicate throughout the quarter and consider how you will communicate respectfully should conflicts arise. By including each member’s name above and by adding their name to the submission, you are indicating that you have read the COGS108 Team Policies, accept your team’s expectations below, and have every intention to fulfill them. These expectations are for your team’s use and benefit — they won’t be graded for their details.\n",
    "\n",
    "* **Team Expectation 1: Communication**\n",
    "  * We will use the designated Discord chat for project-related communication and be responsive to the best of our abilities to ensure that every group member is on the same page.\n",
    "  * We understand that members might be unable to attend certain meetings due to other responsibilities. If that happens, they should notify the rest of the group before the scheduled meeting.\n",
    "  \n",
    "* **Team Expectation 2: Scheduled Meetings**\n",
    "  * All group members are expected to attend the scheduled meeting in the Project Timeline.\n",
    "  * Other meetings not on the timeline can also be scheduled if necessary.\n",
    "* **Team Expectation 3: Team Contribution**\n",
    "  * Although project sections will be divided based on individual strengths, everyone should contribute to some degree.\n",
    "* **Team Expectation 4: Quality Assurance**\n",
    "  * All major project sections should be reviewed before submission.\n",
    "* **Team Expectation 5: Uncooperative Group Member**\n",
    "  * In the case that a group member refuses to complete their assigned task, the rest of the group will notify them of that and give them a time frame to improve and show change.\n",
    "  * If there is no change shown, the professor will have to be notified.\n",
    "* **Team Expectation 6: Accountability**\n",
    "  * All members are expected to equally contribute to the project by completing their assigned responsibilities. \n",
    "  * If any member is facing difficulty completing their portion, they should bring it up to the team to receive help.\n"
   ]
  },
  {
   "cell_type": "markdown",
   "metadata": {},
   "source": [
    "# Project Timeline Proposal"
   ]
  },
  {
   "cell_type": "markdown",
   "metadata": {},
   "source": [
    "\n",
    "\n",
    "| Meeting Date  | Meeting Time| Completed Before Meeting  | Discuss at Meeting |\n",
    "|---|---|---|---|\n",
    "| 10/23  |  7:30 PM | Determine method of communication and weekly meeting time going forward  | Discuss and decide on research topic; research databases for ideal datasets; begin general background research | \n",
    "| 10/30  |  8 PM |  Each member provide one dataset for topic; continue with general background research | Discuss project proposal; draft project proposal; complete responsible section | \n",
    "| 11/6  | 8 PM  | Finalize and submit proposal; receieve feedback and continue to edit proposal accordingly  | Discuss data wrangling and cleaning for dataset |\n",
    "| 11/15  | 8 PM  | Import & Wrangle Data (`La Jolla 2022/3.csv`, `Gate Counters.csv`) | Update hypothesis, copy sections from proposal to checkpoint |\n",
    "| 11/20  | 8 PM  | Finalize wrangling of both datasets; Begin Analysis, Add visualizations | Discuss/edit Analysis; Add.remove data visualization; Discuss ethics and privacy |\n",
    "| 11/27  | 8 PM  | Complete analysis; Finalize visualizations; Receive feedback | Discuss/edit full project and improvement ideas based off feedback received; Start working on project video demonstration |\n",
    "| 12/13  | Before 11:59 PM | Finalize project; Finalize project video | Turn in Final Project components & Group Project Surveys |"
   ]
  }
 ],
 "metadata": {
  "kernelspec": {
   "display_name": "Python 3 (ipykernel)",
   "language": "python",
   "name": "python3"
  },
  "language_info": {
   "codemirror_mode": {
    "name": "ipython",
    "version": 3
   },
   "file_extension": ".py",
   "mimetype": "text/x-python",
   "name": "python",
   "nbconvert_exporter": "python",
   "pygments_lexer": "ipython3",
   "version": "3.9.5"
  }
 },
 "nbformat": 4,
 "nbformat_minor": 2
}
